{
 "cells": [
  {
   "attachments": {},
   "cell_type": "markdown",
   "metadata": {},
   "source": [
    "## Movies"
   ]
  },
  {
   "attachments": {},
   "cell_type": "markdown",
   "metadata": {},
   "source": [
    "Série de requêtes sur l'index \"movies\".\n",
    "- Total number of reviewed movies\n",
    "- Total number of reviews\n",
    "- Total number of journalists\n",
    "- Number of reviews by journalist\n",
    "- Number of reviews per year\n",
    "- Number of reviews by journalist and per year\n",
    "- Number of MPAA categories\n",
    "- Number of films per MPAA category"
   ]
  },
  {
   "cell_type": "code",
   "execution_count": 46,
   "metadata": {},
   "outputs": [
    {
     "name": "stderr",
     "output_type": "stream",
     "text": [
      "/var/folders/0l/46n5zz7920jg0lld8ddcxvv40000gn/T/ipykernel_65046/3061637097.py:16: DeprecationWarning: The 'body' parameter is deprecated and will be removed in a future version. Instead use individual parameters.\n",
      "  result = es.search(index=\"movies\", body=query_body)\n"
     ]
    },
    {
     "data": {
      "text/plain": [
       "{'took': 12,\n",
       " 'timed_out': False,\n",
       " '_shards': {'total': 2, 'successful': 2, 'skipped': 0, 'failed': 0},\n",
       " 'hits': {'total': {'value': 8780, 'relation': 'eq'},\n",
       "  'max_score': None,\n",
       "  'hits': []},\n",
       " 'aggregations': {'total_films': {'value': 8559}}}"
      ]
     },
     "execution_count": 46,
     "metadata": {},
     "output_type": "execute_result"
    }
   ],
   "source": [
    "from elasticsearch import Elasticsearch\n",
    "es = Elasticsearch(hosts = \"http://@localhost:9200\")\n",
    "\n",
    "#Total number of reviewed movies\n",
    "\n",
    "query_body = {\n",
    "  \"size\": 0,\n",
    "  \"aggs\": {\n",
    "    \"total_films\": {\n",
    "      \"cardinality\": {\n",
    "        \"field\": \"display_title.keyword\"\n",
    "      }\n",
    "    }\n",
    "  }\n",
    "}\n",
    "result = es.search(index=\"movies\", body=query_body)\n",
    "result.body"
   ]
  },
  {
   "cell_type": "code",
   "execution_count": 47,
   "metadata": {},
   "outputs": [
    {
     "name": "stderr",
     "output_type": "stream",
     "text": [
      "/var/folders/0l/46n5zz7920jg0lld8ddcxvv40000gn/T/ipykernel_65046/1967684515.py:16: DeprecationWarning: The 'body' parameter is deprecated and will be removed in a future version. Instead use individual parameters.\n",
      "  result = es.search(index=\"movies\", body=query_body)\n"
     ]
    },
    {
     "data": {
      "text/plain": [
       "{'took': 1,\n",
       " 'timed_out': False,\n",
       " '_shards': {'total': 2, 'successful': 2, 'skipped': 0, 'failed': 0},\n",
       " 'hits': {'total': {'value': 8780, 'relation': 'eq'},\n",
       "  'max_score': None,\n",
       "  'hits': []},\n",
       " 'aggregations': {'total_reviews': {'value': 8720}}}"
      ]
     },
     "execution_count": 47,
     "metadata": {},
     "output_type": "execute_result"
    }
   ],
   "source": [
    "from elasticsearch import Elasticsearch\n",
    "es = Elasticsearch(hosts = \"http://@localhost:9200\")\n",
    "\n",
    "#Total number of reviews\n",
    "\n",
    "query_body = {\n",
    "  \"size\": 0,\n",
    "  \"aggs\": {\n",
    "    \"total_reviews\": {\n",
    "      \"cardinality\": {\n",
    "        \"field\": \"headline.keyword\"\n",
    "      }\n",
    "    }\n",
    "  }\n",
    "}\n",
    "result = es.search(index=\"movies\", body=query_body)\n",
    "result.body"
   ]
  },
  {
   "cell_type": "code",
   "execution_count": 48,
   "metadata": {},
   "outputs": [
    {
     "name": "stderr",
     "output_type": "stream",
     "text": [
      "/var/folders/0l/46n5zz7920jg0lld8ddcxvv40000gn/T/ipykernel_65046/2329979850.py:16: DeprecationWarning: The 'body' parameter is deprecated and will be removed in a future version. Instead use individual parameters.\n",
      "  result = es.search(index=\"movies\", body=query_body)\n"
     ]
    },
    {
     "data": {
      "text/plain": [
       "{'took': 3,\n",
       " 'timed_out': False,\n",
       " '_shards': {'total': 2, 'successful': 2, 'skipped': 0, 'failed': 0},\n",
       " 'hits': {'total': {'value': 8780, 'relation': 'eq'},\n",
       "  'max_score': None,\n",
       "  'hits': []},\n",
       " 'aggregations': {'total_journalists': {'value': 104}}}"
      ]
     },
     "execution_count": 48,
     "metadata": {},
     "output_type": "execute_result"
    }
   ],
   "source": [
    "from elasticsearch import Elasticsearch\n",
    "es = Elasticsearch(hosts = \"http://@localhost:9200\")\n",
    "\n",
    "#Total number of journalists\n",
    "\n",
    "query_body = {\n",
    "  \"size\": 0,\n",
    "  \"aggs\": {\n",
    "    \"total_journalists\": {\n",
    "      \"cardinality\": {\n",
    "        \"field\": \"byline.keyword\"\n",
    "      }\n",
    "    }\n",
    "  }\n",
    "}\n",
    "result = es.search(index=\"movies\", body=query_body)\n",
    "result.body"
   ]
  },
  {
   "cell_type": "code",
   "execution_count": 49,
   "metadata": {},
   "outputs": [
    {
     "name": "stderr",
     "output_type": "stream",
     "text": [
      "/var/folders/0l/46n5zz7920jg0lld8ddcxvv40000gn/T/ipykernel_65046/4359584.py:17: DeprecationWarning: The 'body' parameter is deprecated and will be removed in a future version. Instead use individual parameters.\n",
      "  result = es.search(index=\"movies\", body=query_body)\n"
     ]
    },
    {
     "data": {
      "text/plain": [
       "{'took': 1,\n",
       " 'timed_out': False,\n",
       " '_shards': {'total': 2, 'successful': 2, 'skipped': 0, 'failed': 0},\n",
       " 'hits': {'total': {'value': 8780, 'relation': 'eq'},\n",
       "  'max_score': None,\n",
       "  'hits': []},\n",
       " 'aggregations': {'reviews_per_journalist': {'doc_count_error_upper_bound': 86,\n",
       "   'sum_other_doc_count': 3588,\n",
       "   'buckets': [{'key': 'JEANNETTE CATSOULIS', 'doc_count': 855},\n",
       "    {'key': 'MANOHLA DARGIS', 'doc_count': 717},\n",
       "    {'key': 'STEPHEN HOLDEN', 'doc_count': 593},\n",
       "    {'key': 'A. O. SCOTT', 'doc_count': 562},\n",
       "    {'key': 'BEN KENIGSBERG', 'doc_count': 542},\n",
       "    {'key': 'GLENN KENNY', 'doc_count': 495},\n",
       "    {'key': 'NEIL GENZLINGER', 'doc_count': 416},\n",
       "    {'key': 'NICOLAS RAPOLD', 'doc_count': 348},\n",
       "    {'key': 'Glenn Kenny', 'doc_count': 345},\n",
       "    {'key': 'ANDY WEBSTER', 'doc_count': 319}]}}}"
      ]
     },
     "execution_count": 49,
     "metadata": {},
     "output_type": "execute_result"
    }
   ],
   "source": [
    "from elasticsearch import Elasticsearch\n",
    "es = Elasticsearch(hosts = \"http://@localhost:9200\")\n",
    "\n",
    "#Number of reviews by journalist\n",
    "\n",
    "query_body = {\n",
    "  \"size\": 0,\n",
    "  \"aggs\": {\n",
    "    \"reviews_per_journalist\": {\n",
    "      \"terms\": {\n",
    "        \"field\": \"byline.keyword\",\n",
    "        \"size\": 10\n",
    "      }\n",
    "    }\n",
    "  }\n",
    "}\n",
    "result = es.search(index=\"movies\", body=query_body)\n",
    "result.body"
   ]
  },
  {
   "cell_type": "code",
   "execution_count": 50,
   "metadata": {},
   "outputs": [
    {
     "name": "stderr",
     "output_type": "stream",
     "text": [
      "/var/folders/0l/46n5zz7920jg0lld8ddcxvv40000gn/T/ipykernel_65046/4054417190.py:16: DeprecationWarning: The 'body' parameter is deprecated and will be removed in a future version. Instead use individual parameters.\n",
      "  result = es.search(index=\"movies\", body=query_body)\n"
     ]
    },
    {
     "data": {
      "text/plain": [
       "{'took': 0,\n",
       " 'timed_out': False,\n",
       " '_shards': {'total': 2, 'successful': 2, 'skipped': 0, 'failed': 0},\n",
       " 'hits': {'total': {'value': 8780, 'relation': 'eq'},\n",
       "  'max_score': None,\n",
       "  'hits': []},\n",
       " 'aggregations': {'total_films': {'value': 19}}}"
      ]
     },
     "execution_count": 50,
     "metadata": {},
     "output_type": "execute_result"
    }
   ],
   "source": [
    "from elasticsearch import Elasticsearch\n",
    "es = Elasticsearch(hosts = \"http://@localhost:9200\")\n",
    "\n",
    "#Number of MPAA categories\n",
    "\n",
    "query_body = {\n",
    "  \"size\": 0,\n",
    "  \"aggs\": {\n",
    "    \"total_films\": {\n",
    "      \"cardinality\": {\n",
    "        \"field\": \"mpaa_rating\"\n",
    "      }\n",
    "    }\n",
    "  }\n",
    "}\n",
    "result = es.search(index=\"movies\", body=query_body)\n",
    "result.body"
   ]
  },
  {
   "cell_type": "code",
   "execution_count": 51,
   "metadata": {},
   "outputs": [
    {
     "name": "stderr",
     "output_type": "stream",
     "text": [
      "/var/folders/0l/46n5zz7920jg0lld8ddcxvv40000gn/T/ipykernel_65046/4155455540.py:17: DeprecationWarning: The 'body' parameter is deprecated and will be removed in a future version. Instead use individual parameters.\n",
      "  result = es.search(index=\"movies\", body=query_body)\n"
     ]
    },
    {
     "data": {
      "text/plain": [
       "{'took': 1,\n",
       " 'timed_out': False,\n",
       " '_shards': {'total': 2, 'successful': 2, 'skipped': 0, 'failed': 0},\n",
       " 'hits': {'total': {'value': 8780, 'relation': 'eq'},\n",
       "  'max_score': None,\n",
       "  'hits': []},\n",
       " 'aggregations': {'films_by_mpaa_rating': {'doc_count_error_upper_bound': 0,\n",
       "   'sum_other_doc_count': 23,\n",
       "   'buckets': [{'key': '', 'doc_count': 3994},\n",
       "    {'key': 'R', 'doc_count': 2235},\n",
       "    {'key': 'PG-13', 'doc_count': 1154},\n",
       "    {'key': 'Not Rated', 'doc_count': 590},\n",
       "    {'key': 'PG', 'doc_count': 468},\n",
       "    {'key': 'Unrated', 'doc_count': 157},\n",
       "    {'key': 'TV-MA', 'doc_count': 82},\n",
       "    {'key': 'TV-14', 'doc_count': 32},\n",
       "    {'key': 'G', 'doc_count': 30},\n",
       "    {'key': 'TV-PG', 'doc_count': 15}]}}}"
      ]
     },
     "execution_count": 51,
     "metadata": {},
     "output_type": "execute_result"
    }
   ],
   "source": [
    "from elasticsearch import Elasticsearch\n",
    "es = Elasticsearch(hosts = \"http://@localhost:9200\")\n",
    "\n",
    "#Number of movies per MPAA category\n",
    "\n",
    "query_body = {\n",
    "  \"size\": 0,\n",
    "  \"aggs\": {\n",
    "    \"films_by_mpaa_rating\": {\n",
    "      \"terms\": {\n",
    "        \"field\": \"mpaa_rating\",\n",
    "        \"size\": 10\n",
    "      }\n",
    "    }\n",
    "  }\n",
    "}\n",
    "result = es.search(index=\"movies\", body=query_body)\n",
    "result.body"
   ]
  },
  {
   "cell_type": "code",
   "execution_count": 52,
   "metadata": {},
   "outputs": [
    {
     "name": "stderr",
     "output_type": "stream",
     "text": [
      "/var/folders/0l/46n5zz7920jg0lld8ddcxvv40000gn/T/ipykernel_65046/4160182980.py:21: DeprecationWarning: The 'body' parameter is deprecated and will be removed in a future version. Instead use individual parameters.\n",
      "  result = es.search(index=\"movies\", body=query_body)\n"
     ]
    },
    {
     "data": {
      "text/plain": [
       "{'took': 2,\n",
       " 'timed_out': False,\n",
       " '_shards': {'total': 2, 'successful': 2, 'skipped': 0, 'failed': 0},\n",
       " 'hits': {'total': {'value': 8780, 'relation': 'eq'},\n",
       "  'max_score': None,\n",
       "  'hits': []},\n",
       " 'aggregations': {'reviews_by_year': {'buckets': [{'key_as_string': '2023',\n",
       "     'key': 1672531200000,\n",
       "     'doc_count': 370},\n",
       "    {'key_as_string': '2022', 'key': 1640995200000, 'doc_count': 766},\n",
       "    {'key_as_string': '2021', 'key': 1609459200000, 'doc_count': 769},\n",
       "    {'key_as_string': '2020', 'key': 1577836800000, 'doc_count': 655},\n",
       "    {'key_as_string': '2019', 'key': 1546300800000, 'doc_count': 696},\n",
       "    {'key_as_string': '2018', 'key': 1514764800000, 'doc_count': 690},\n",
       "    {'key_as_string': '2017', 'key': 1483228800000, 'doc_count': 741},\n",
       "    {'key_as_string': '2016', 'key': 1451606400000, 'doc_count': 774},\n",
       "    {'key_as_string': '2015', 'key': 1420070400000, 'doc_count': 776},\n",
       "    {'key_as_string': '2014', 'key': 1388534400000, 'doc_count': 871},\n",
       "    {'key_as_string': '2013', 'key': 1356998400000, 'doc_count': 818},\n",
       "    {'key_as_string': '2012', 'key': 1325376000000, 'doc_count': 688},\n",
       "    {'key_as_string': '2011', 'key': 1293840000000, 'doc_count': 166}]}}}"
      ]
     },
     "execution_count": 52,
     "metadata": {},
     "output_type": "execute_result"
    }
   ],
   "source": [
    "from elasticsearch import Elasticsearch\n",
    "es = Elasticsearch(hosts = \"http://@localhost:9200\")\n",
    "\n",
    "#Number of reviews per year\n",
    "\n",
    "query_body = {\n",
    "  \"size\": 0,\n",
    "  \"aggs\": {\n",
    "    \"reviews_by_year\": {\n",
    "      \"date_histogram\": {\n",
    "        \"field\": \"publication_date\",\n",
    "        \"calendar_interval\": \"year\",\n",
    "        \"format\": \"yyyy\",\n",
    "        \"order\": {\n",
    "          \"_key\": \"desc\"\n",
    "        }\n",
    "      }\n",
    "    }\n",
    "  }\n",
    "}\n",
    "result = es.search(index=\"movies\", body=query_body)\n",
    "result.body"
   ]
  },
  {
   "cell_type": "code",
   "execution_count": 53,
   "metadata": {},
   "outputs": [
    {
     "name": "stderr",
     "output_type": "stream",
     "text": [
      "/var/folders/0l/46n5zz7920jg0lld8ddcxvv40000gn/T/ipykernel_65046/4115964872.py:29: DeprecationWarning: The 'body' parameter is deprecated and will be removed in a future version. Instead use individual parameters.\n",
      "  result = es.search(index=\"movies\", body=query_body)\n"
     ]
    },
    {
     "data": {
      "text/plain": [
       "{'took': 2,\n",
       " 'timed_out': False,\n",
       " '_shards': {'total': 2, 'successful': 2, 'skipped': 0, 'failed': 0},\n",
       " 'hits': {'total': {'value': 8780, 'relation': 'eq'},\n",
       "  'max_score': None,\n",
       "  'hits': []},\n",
       " 'aggregations': {'reviews_by_journalist': {'doc_count_error_upper_bound': 86,\n",
       "   'sum_other_doc_count': 3588,\n",
       "   'buckets': [{'key': 'JEANNETTE CATSOULIS',\n",
       "     'doc_count': 855,\n",
       "     'reviews_by_year': {'buckets': [{'key_as_string': '2011',\n",
       "        'key': 1293840000000,\n",
       "        'doc_count': 26},\n",
       "       {'key_as_string': '2012', 'key': 1325376000000, 'doc_count': 109},\n",
       "       {'key_as_string': '2013', 'key': 1356998400000, 'doc_count': 129},\n",
       "       {'key_as_string': '2014', 'key': 1388534400000, 'doc_count': 130},\n",
       "       {'key_as_string': '2015', 'key': 1420070400000, 'doc_count': 80},\n",
       "       {'key_as_string': '2016', 'key': 1451606400000, 'doc_count': 71},\n",
       "       {'key_as_string': '2017', 'key': 1483228800000, 'doc_count': 109},\n",
       "       {'key_as_string': '2018', 'key': 1514764800000, 'doc_count': 108},\n",
       "       {'key_as_string': '2019', 'key': 1546300800000, 'doc_count': 93}]}},\n",
       "    {'key': 'MANOHLA DARGIS',\n",
       "     'doc_count': 717,\n",
       "     'reviews_by_year': {'buckets': [{'key_as_string': '2011',\n",
       "        'key': 1293840000000,\n",
       "        'doc_count': 26},\n",
       "       {'key_as_string': '2012', 'key': 1325376000000, 'doc_count': 117},\n",
       "       {'key_as_string': '2013', 'key': 1356998400000, 'doc_count': 101},\n",
       "       {'key_as_string': '2014', 'key': 1388534400000, 'doc_count': 97},\n",
       "       {'key_as_string': '2015', 'key': 1420070400000, 'doc_count': 98},\n",
       "       {'key_as_string': '2016', 'key': 1451606400000, 'doc_count': 84},\n",
       "       {'key_as_string': '2017', 'key': 1483228800000, 'doc_count': 66},\n",
       "       {'key_as_string': '2018', 'key': 1514764800000, 'doc_count': 71},\n",
       "       {'key_as_string': '2019', 'key': 1546300800000, 'doc_count': 57}]}},\n",
       "    {'key': 'STEPHEN HOLDEN',\n",
       "     'doc_count': 593,\n",
       "     'reviews_by_year': {'buckets': [{'key_as_string': '2011',\n",
       "        'key': 1293840000000,\n",
       "        'doc_count': 30},\n",
       "       {'key_as_string': '2012', 'key': 1325376000000, 'doc_count': 135},\n",
       "       {'key_as_string': '2013', 'key': 1356998400000, 'doc_count': 119},\n",
       "       {'key_as_string': '2014', 'key': 1388534400000, 'doc_count': 105},\n",
       "       {'key_as_string': '2015', 'key': 1420070400000, 'doc_count': 103},\n",
       "       {'key_as_string': '2016', 'key': 1451606400000, 'doc_count': 90},\n",
       "       {'key_as_string': '2017', 'key': 1483228800000, 'doc_count': 11}]}},\n",
       "    {'key': 'A. O. SCOTT',\n",
       "     'doc_count': 562,\n",
       "     'reviews_by_year': {'buckets': [{'key_as_string': '2011',\n",
       "        'key': 1293840000000,\n",
       "        'doc_count': 24},\n",
       "       {'key_as_string': '2012', 'key': 1325376000000, 'doc_count': 91},\n",
       "       {'key_as_string': '2013', 'key': 1356998400000, 'doc_count': 113},\n",
       "       {'key_as_string': '2014', 'key': 1388534400000, 'doc_count': 110},\n",
       "       {'key_as_string': '2015', 'key': 1420070400000, 'doc_count': 113},\n",
       "       {'key_as_string': '2016', 'key': 1451606400000, 'doc_count': 99},\n",
       "       {'key_as_string': '2017', 'key': 1483228800000, 'doc_count': 1},\n",
       "       {'key_as_string': '2018', 'key': 1514764800000, 'doc_count': 11}]}},\n",
       "    {'key': 'BEN KENIGSBERG',\n",
       "     'doc_count': 542,\n",
       "     'reviews_by_year': {'buckets': [{'key_as_string': '2014',\n",
       "        'key': 1388534400000,\n",
       "        'doc_count': 102},\n",
       "       {'key_as_string': '2015', 'key': 1420070400000, 'doc_count': 54},\n",
       "       {'key_as_string': '2016', 'key': 1451606400000, 'doc_count': 40},\n",
       "       {'key_as_string': '2017', 'key': 1483228800000, 'doc_count': 109},\n",
       "       {'key_as_string': '2018', 'key': 1514764800000, 'doc_count': 124},\n",
       "       {'key_as_string': '2019', 'key': 1546300800000, 'doc_count': 113}]}},\n",
       "    {'key': 'GLENN KENNY',\n",
       "     'doc_count': 495,\n",
       "     'reviews_by_year': {'buckets': [{'key_as_string': '2015',\n",
       "        'key': 1420070400000,\n",
       "        'doc_count': 15},\n",
       "       {'key_as_string': '2016', 'key': 1451606400000, 'doc_count': 95},\n",
       "       {'key_as_string': '2017', 'key': 1483228800000, 'doc_count': 128},\n",
       "       {'key_as_string': '2018', 'key': 1514764800000, 'doc_count': 145},\n",
       "       {'key_as_string': '2019', 'key': 1546300800000, 'doc_count': 112}]}},\n",
       "    {'key': 'NEIL GENZLINGER',\n",
       "     'doc_count': 416,\n",
       "     'reviews_by_year': {'buckets': [{'key_as_string': '2011',\n",
       "        'key': 1293840000000,\n",
       "        'doc_count': 14},\n",
       "       {'key_as_string': '2012', 'key': 1325376000000, 'doc_count': 52},\n",
       "       {'key_as_string': '2013', 'key': 1356998400000, 'doc_count': 69},\n",
       "       {'key_as_string': '2014', 'key': 1388534400000, 'doc_count': 56},\n",
       "       {'key_as_string': '2015', 'key': 1420070400000, 'doc_count': 79},\n",
       "       {'key_as_string': '2016', 'key': 1451606400000, 'doc_count': 101},\n",
       "       {'key_as_string': '2017', 'key': 1483228800000, 'doc_count': 45}]}},\n",
       "    {'key': 'NICOLAS RAPOLD',\n",
       "     'doc_count': 348,\n",
       "     'reviews_by_year': {'buckets': [{'key_as_string': '2012',\n",
       "        'key': 1325376000000,\n",
       "        'doc_count': 36},\n",
       "       {'key_as_string': '2013', 'key': 1356998400000, 'doc_count': 94},\n",
       "       {'key_as_string': '2014', 'key': 1388534400000, 'doc_count': 123},\n",
       "       {'key_as_string': '2015', 'key': 1420070400000, 'doc_count': 76},\n",
       "       {'key_as_string': '2016', 'key': 1451606400000, 'doc_count': 19}]}},\n",
       "    {'key': 'Glenn Kenny',\n",
       "     'doc_count': 345,\n",
       "     'reviews_by_year': {'buckets': [{'key_as_string': '2017',\n",
       "        'key': 1483228800000,\n",
       "        'doc_count': 2},\n",
       "       {'key_as_string': '2018', 'key': 1514764800000, 'doc_count': 3},\n",
       "       {'key_as_string': '2019', 'key': 1546300800000, 'doc_count': 20},\n",
       "       {'key_as_string': '2020', 'key': 1577836800000, 'doc_count': 129},\n",
       "       {'key_as_string': '2021', 'key': 1609459200000, 'doc_count': 99},\n",
       "       {'key_as_string': '2022', 'key': 1640995200000, 'doc_count': 61},\n",
       "       {'key_as_string': '2023', 'key': 1672531200000, 'doc_count': 31}]}},\n",
       "    {'key': 'ANDY WEBSTER',\n",
       "     'doc_count': 319,\n",
       "     'reviews_by_year': {'buckets': [{'key_as_string': '2011',\n",
       "        'key': 1293840000000,\n",
       "        'doc_count': 10},\n",
       "       {'key_as_string': '2012', 'key': 1325376000000, 'doc_count': 45},\n",
       "       {'key_as_string': '2013', 'key': 1356998400000, 'doc_count': 43},\n",
       "       {'key_as_string': '2014', 'key': 1388534400000, 'doc_count': 42},\n",
       "       {'key_as_string': '2015', 'key': 1420070400000, 'doc_count': 63},\n",
       "       {'key_as_string': '2016', 'key': 1451606400000, 'doc_count': 65},\n",
       "       {'key_as_string': '2017', 'key': 1483228800000, 'doc_count': 51}]}}]}}}"
      ]
     },
     "execution_count": 53,
     "metadata": {},
     "output_type": "execute_result"
    }
   ],
   "source": [
    "from elasticsearch import Elasticsearch\n",
    "es = Elasticsearch(hosts = \"http://@localhost:9200\")\n",
    "\n",
    "#Number of reviews by journalist and per year\n",
    "\n",
    "query_body = {\n",
    "  \"size\": 0,\n",
    "  \"aggs\": {\n",
    "    \"reviews_by_journalist\": {\n",
    "      \"terms\": {\n",
    "        \"field\": \"byline.keyword\",\n",
    "        \"size\": 10\n",
    "      },\n",
    "      \"aggs\": {\n",
    "        \"reviews_by_year\": {\n",
    "          \"date_histogram\": {\n",
    "            \"field\": \"publication_date\",\n",
    "            \"calendar_interval\": \"year\",\n",
    "            \"format\": \"yyyy\",\n",
    "            \"order\": {\n",
    "              \"_key\": \"asc\"\n",
    "            }\n",
    "          }\n",
    "        }\n",
    "      }\n",
    "    }\n",
    "  }\n",
    "}\n",
    "result = es.search(index=\"movies\", body=query_body)\n",
    "result.body"
   ]
  }
 ],
 "metadata": {
  "kernelspec": {
   "display_name": "venv",
   "language": "python",
   "name": "python3"
  },
  "language_info": {
   "codemirror_mode": {
    "name": "ipython",
    "version": 3
   },
   "file_extension": ".py",
   "mimetype": "text/x-python",
   "name": "python",
   "nbconvert_exporter": "python",
   "pygments_lexer": "ipython3",
   "version": "3.11.3"
  },
  "orig_nbformat": 4
 },
 "nbformat": 4,
 "nbformat_minor": 2
}
