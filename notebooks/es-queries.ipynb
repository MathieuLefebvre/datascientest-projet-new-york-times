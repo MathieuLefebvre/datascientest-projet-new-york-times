{
 "cells": [
  {
   "cell_type": "code",
   "execution_count": 17,
   "metadata": {},
   "outputs": [
    {
     "name": "stderr",
     "output_type": "stream",
     "text": [
      "/var/folders/rs/p_w2q_r55xq_y1k4j_wfd0l00000gn/T/ipykernel_97197/1853832394.py:18: DeprecationWarning: The 'body' parameter is deprecated and will be removed in a future version. Instead use individual parameters.\n",
      "  result = es.search(index=\"news\", body=query_body)\n"
     ]
    },
    {
     "data": {
      "text/plain": [
       "{'took': 1810,\n",
       " 'timed_out': False,\n",
       " '_shards': {'total': 2, 'successful': 2, 'skipped': 0, 'failed': 0},\n",
       " 'hits': {'total': {'value': 4680, 'relation': 'eq'},\n",
       "  'max_score': None,\n",
       "  'hits': []},\n",
       " 'aggregations': {'unique_section': {'doc_count_error_upper_bound': 100,\n",
       "   'sum_other_doc_count': 3617,\n",
       "   'buckets': [{'key': 'Admin', 'doc_count': 120},\n",
       "    {'key': 'Arts', 'doc_count': 120},\n",
       "    {'key': 'Automobiles', 'doc_count': 120},\n",
       "    {'key': 'Books', 'doc_count': 120},\n",
       "    {'key': 'Briefing', 'doc_count': 120},\n",
       "    {'key': 'Business', 'doc_count': 120},\n",
       "    {'key': 'Climate', 'doc_count': 120},\n",
       "    {'key': 'Parenting', 'doc_count': 100},\n",
       "    {'key': 'U.S.', 'doc_count': 62},\n",
       "    {'key': 'Podcasts', 'doc_count': 61}]}}}"
      ]
     },
     "execution_count": 17,
     "metadata": {},
     "output_type": "execute_result"
    }
   ],
   "source": [
    "from elasticsearch import Elasticsearch\n",
    "from pprint import pprint\n",
    "\n",
    "es = Elasticsearch(hosts = \"http://@localhost:9200\")\n",
    "\n",
    "\n",
    "query_body = {\n",
    "  \"size\": \"0\",\n",
    "  \"aggs\": {\n",
    "    \"unique_section\": {\n",
    "      \"terms\": {\n",
    "        \"field\": \"section\",\n",
    "        \"size\": 10\n",
    "      }\n",
    "    }\n",
    "  }\n",
    "}\n",
    "result = es.search(index=\"news\", body=query_body)\n",
    "result.body\n",
    "#help(result)"
   ]
  }
 ],
 "metadata": {
  "kernelspec": {
   "display_name": "venv",
   "language": "python",
   "name": "python3"
  },
  "language_info": {
   "codemirror_mode": {
    "name": "ipython",
    "version": 3
   },
   "file_extension": ".py",
   "mimetype": "text/x-python",
   "name": "python",
   "nbconvert_exporter": "python",
   "pygments_lexer": "ipython3",
   "version": "3.10.0"
  },
  "orig_nbformat": 4
 },
 "nbformat": 4,
 "nbformat_minor": 2
}
